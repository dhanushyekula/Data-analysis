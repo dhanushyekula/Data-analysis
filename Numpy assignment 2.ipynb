{
 "cells": [
  {
   "cell_type": "markdown",
   "id": "2d4c1f1e",
   "metadata": {},
   "source": [
    "# FIRST QUESTION"
   ]
  },
  {
   "cell_type": "code",
   "execution_count": 2,
   "id": "82b37ddd",
   "metadata": {},
   "outputs": [],
   "source": [
    "import numpy as np"
   ]
  },
  {
   "cell_type": "code",
   "execution_count": 16,
   "id": "6bd4eb50",
   "metadata": {},
   "outputs": [],
   "source": [
    "x=np.genfromtxt(r\"D:\\work\\tipsf.csv\",delimiter=\",\",skip_header=1)"
   ]
  },
  {
   "cell_type": "code",
   "execution_count": 5,
   "id": "5263c83b",
   "metadata": {},
   "outputs": [
    {
     "data": {
      "text/plain": [
       "array([[  0.  ,  16.99,   1.01, ...,   1.  ,   0.  ,   2.  ],\n",
       "       [  1.  ,  10.34,   1.66, ...,   1.  ,   0.  ,   3.  ],\n",
       "       [  2.  ,  21.01,   3.5 , ...,   1.  ,   0.  ,   3.  ],\n",
       "       ...,\n",
       "       [241.  ,  22.67,   2.  , ...,   0.  ,   0.  ,   2.  ],\n",
       "       [242.  ,  17.82,   1.75, ...,   0.  ,   0.  ,   2.  ],\n",
       "       [243.  ,  18.78,   3.  , ...,   2.  ,   0.  ,   2.  ]])"
      ]
     },
     "execution_count": 5,
     "metadata": {},
     "output_type": "execute_result"
    }
   ],
   "source": [
    "x"
   ]
  },
  {
   "cell_type": "markdown",
   "id": "67e04f1b",
   "metadata": {},
   "source": [
    "# 1. What is the total bill value?"
   ]
  },
  {
   "cell_type": "code",
   "execution_count": 4,
   "id": "613acd01",
   "metadata": {},
   "outputs": [
    {
     "data": {
      "text/plain": [
       "4827.77"
      ]
     },
     "execution_count": 4,
     "metadata": {},
     "output_type": "execute_result"
    }
   ],
   "source": [
    "np.sum(x[:,1])"
   ]
  },
  {
   "cell_type": "markdown",
   "id": "5546f597",
   "metadata": {},
   "source": [
    "# 2. What is the total tip value?"
   ]
  },
  {
   "cell_type": "code",
   "execution_count": 5,
   "id": "e2aa597e",
   "metadata": {},
   "outputs": [
    {
     "data": {
      "text/plain": [
       "731.5799999999999"
      ]
     },
     "execution_count": 5,
     "metadata": {},
     "output_type": "execute_result"
    }
   ],
   "source": [
    "np.sum(x[:,2])"
   ]
  },
  {
   "cell_type": "markdown",
   "id": "b3f56bd8",
   "metadata": {},
   "source": [
    "# 3. Count how many sun,sat,thu,fri are there."
   ]
  },
  {
   "cell_type": "code",
   "execution_count": 9,
   "id": "3ac8c904",
   "metadata": {},
   "outputs": [
    {
     "name": "stdout",
     "output_type": "stream",
     "text": [
      "sun =  87\n",
      "sat =  76\n",
      "thu =  62\n",
      "fri =  19\n"
     ]
    }
   ],
   "source": [
    "x1=np.unique(x[:,5],return_counts=True)\n",
    "a,s=x1\n",
    "y=0\n",
    "for i in a:\n",
    "    if(i==0):\n",
    "        print(\"sun = \",s[y])\n",
    "        y+=1\n",
    "    elif(i==1):\n",
    "        print(\"sat = \",s[y])\n",
    "        y+=1\n",
    "    elif(i==2):\n",
    "        print(\"thu = \",s[y])\n",
    "        y+=1\n",
    "    else:\n",
    "        print(\"fri = \",s[y])\n",
    "        y+=1    "
   ]
  },
  {
   "cell_type": "markdown",
   "id": "9a7b8ebf",
   "metadata": {},
   "source": [
    "# 4. How many smokers are there?"
   ]
  },
  {
   "cell_type": "code",
   "execution_count": 10,
   "id": "e1a6cb12",
   "metadata": {},
   "outputs": [
    {
     "data": {
      "text/plain": [
       "93.0"
      ]
     },
     "execution_count": 10,
     "metadata": {},
     "output_type": "execute_result"
    }
   ],
   "source": [
    "np.sum(x[:,4])"
   ]
  },
  {
   "cell_type": "markdown",
   "id": "7f608cbb",
   "metadata": {},
   "source": [
    "# 5. What is the avg tip given by females and males?"
   ]
  },
  {
   "cell_type": "code",
   "execution_count": 13,
   "id": "5dbe2c33",
   "metadata": {},
   "outputs": [
    {
     "name": "stdout",
     "output_type": "stream",
     "text": [
      "2.8334482758620685 avg tip by female\n",
      "1.5701273885350315 avg tip by male\n"
     ]
    }
   ],
   "source": [
    "x1=np.sum(x[:,2].take(np.where(x[:,3]==0)))\n",
    "x2=np.sum(x[:,2].take(np.where(x[:,3]==1)))\n",
    "y=np.unique(x[:,3],return_counts=True)\n",
    "q,z=y\n",
    "print(x1/z[0],\"avg tip by female\")\n",
    "print(x1/z[1],\"avg tip by male\")"
   ]
  },
  {
   "cell_type": "markdown",
   "id": "3c4cee9c",
   "metadata": {},
   "source": [
    "# 6. How much amount has been spent by male and female?"
   ]
  },
  {
   "cell_type": "code",
   "execution_count": 18,
   "id": "13dfe77c",
   "metadata": {},
   "outputs": [
    {
     "ename": "SyntaxError",
     "evalue": "invalid syntax. Perhaps you forgot a comma? (1016720444.py, line 1)",
     "output_type": "error",
     "traceback": [
      "\u001b[1;36m  Cell \u001b[1;32mIn[18], line 1\u001b[1;36m\u001b[0m\n\u001b[1;33m    y1=np.sum(x[:,1].take(np.where(x[:,3]==0))\u001b[0m\n\u001b[1;37m              ^\u001b[0m\n\u001b[1;31mSyntaxError\u001b[0m\u001b[1;31m:\u001b[0m invalid syntax. Perhaps you forgot a comma?\n"
     ]
    }
   ],
   "source": [
    "y1=np.sum(x[:,1].take(np.where(x[:,3]==0))\n",
    "y2=np.sum(x[:,1].take(np.where(x[:,3]==1))\n",
    "print(y1,\"= amount spent by females\")\n",
    "print(y2,\"= amount spent by males\")              "
   ]
  },
  {
   "cell_type": "markdown",
   "id": "215890a0",
   "metadata": {},
   "source": [
    "# 7. What is the min and max tip?"
   ]
  },
  {
   "cell_type": "code",
   "execution_count": 14,
   "id": "aa9bda9e",
   "metadata": {},
   "outputs": [
    {
     "data": {
      "text/plain": [
       "10.0"
      ]
     },
     "execution_count": 14,
     "metadata": {},
     "output_type": "execute_result"
    }
   ],
   "source": [
    "np.max(x[:,2])"
   ]
  },
  {
   "cell_type": "code",
   "execution_count": 16,
   "id": "f502da11",
   "metadata": {},
   "outputs": [
    {
     "data": {
      "text/plain": [
       "1.0"
      ]
     },
     "execution_count": 16,
     "metadata": {},
     "output_type": "execute_result"
    }
   ],
   "source": [
    "np.min(x[:,2])"
   ]
  },
  {
   "cell_type": "markdown",
   "id": "70b1edd9",
   "metadata": {},
   "source": [
    "# 8. How many male and female are going for dinner and lunch?"
   ]
  },
  {
   "cell_type": "code",
   "execution_count": 19,
   "id": "9fa2a5dd",
   "metadata": {},
   "outputs": [
    {
     "name": "stdout",
     "output_type": "stream",
     "text": [
      "total female going for lunch 35\n",
      "total female going for dinner 52\n",
      "total male going for lunch 33\n",
      "total female going for dinner 124\n"
     ]
    }
   ],
   "source": [
    "x1=np.unique(x[:,3].take(np.where((x[:,6]==1))),return_counts=True)      \n",
    "a,b=x1\n",
    "x2=np.unique(x[:,3].take(np.where((x[:,6]==0))),return_counts=True)      \n",
    "c,d=x2\n",
    "for i in a:\n",
    "    if(i==0):\n",
    "        print(\"total female going for lunch\",b[0])\n",
    "        print(\"total female going for dinner\",d[0])\n",
    "    else:\n",
    "         print(\"total male going for lunch\",b[1])\n",
    "         print(\"total female going for dinner\",d[1])"
   ]
  },
  {
   "cell_type": "markdown",
   "id": "9634024a",
   "metadata": {},
   "source": [
    "# 9. Find out the avg size"
   ]
  },
  {
   "cell_type": "code",
   "execution_count": 17,
   "id": "4c9f751a",
   "metadata": {},
   "outputs": [
    {
     "data": {
      "text/plain": [
       "2.569672131147541"
      ]
     },
     "execution_count": 17,
     "metadata": {},
     "output_type": "execute_result"
    }
   ],
   "source": [
    "np.mean(x[:,7])"
   ]
  },
  {
   "cell_type": "markdown",
   "id": "d387e830",
   "metadata": {},
   "source": [
    "# 10. How many female and male smokers are there?"
   ]
  },
  {
   "cell_type": "code",
   "execution_count": 24,
   "id": "9b3c514d",
   "metadata": {},
   "outputs": [
    {
     "name": "stdout",
     "output_type": "stream",
     "text": [
      "Female smokers :  33\n",
      "Male smokers :  60\n"
     ]
    }
   ],
   "source": [
    "x1=np.unique(x[:,3].take(np.where(x[:,4]==1)),return_counts=True)\n",
    "a,b=x1\n",
    "for i in a:\n",
    "    if (i==0):\n",
    "        print(\"Female smokers : \",b[0])\n",
    "    else:\n",
    "        print(\"Male smokers : \",b[1])"
   ]
  },
  {
   "cell_type": "markdown",
   "id": "1c3a5188",
   "metadata": {},
   "source": [
    "# SECOND QUESTION"
   ]
  },
  {
   "cell_type": "code",
   "execution_count": 25,
   "id": "17073c70",
   "metadata": {},
   "outputs": [],
   "source": [
    "y=np.genfromtxt(r\"D:\\work\\train_extended.csv\",delimiter=\",\",skip_header=1)"
   ]
  },
  {
   "cell_type": "code",
   "execution_count": 26,
   "id": "b4181dfd",
   "metadata": {},
   "outputs": [
    {
     "data": {
      "text/plain": [
       "array([[ 1.575     ,  1.225     ,  0.375     , ...,  6.3219385 ,\n",
       "         9.63883   , 10.        ],\n",
       "       [ 1.2375    ,  1.        ,  0.375     , ...,  3.798833  ,\n",
       "         7.654365  , 19.        ],\n",
       "       [ 1.45      ,  1.1625    ,  0.4125    , ...,  7.01650125,\n",
       "         7.257472  , 11.        ],\n",
       "       ...,\n",
       "       [ 1.125     ,  0.9125    ,  0.2875    , ...,  1.984465  ,\n",
       "         3.118445  ,  7.        ],\n",
       "       [ 1.625     ,  1.275     ,  0.4125    , ...,  7.86698625,\n",
       "        10.489315  , 11.        ],\n",
       "       [ 1.5875    ,  1.25      ,  0.3875    , ...,  7.38504475,\n",
       "         8.788345  , 11.        ]])"
      ]
     },
     "execution_count": 26,
     "metadata": {},
     "output_type": "execute_result"
    }
   ],
   "source": [
    "y"
   ]
  },
  {
   "cell_type": "markdown",
   "id": "51ac59ca",
   "metadata": {},
   "source": [
    "# 1.What is max and min length?"
   ]
  },
  {
   "cell_type": "code",
   "execution_count": 24,
   "id": "fabe84c3",
   "metadata": {},
   "outputs": [
    {
     "data": {
      "text/plain": [
       "7.58349125"
      ]
     },
     "execution_count": 24,
     "metadata": {},
     "output_type": "execute_result"
    }
   ],
   "source": [
    "np.max(y[:,0])"
   ]
  },
  {
   "cell_type": "code",
   "execution_count": 25,
   "id": "816cf818",
   "metadata": {},
   "outputs": [
    {
     "data": {
      "text/plain": [
       "0.0"
      ]
     },
     "execution_count": 25,
     "metadata": {},
     "output_type": "execute_result"
    }
   ],
   "source": [
    "np.min(y[:,0])"
   ]
  },
  {
   "cell_type": "markdown",
   "id": "eee4af35",
   "metadata": {},
   "source": [
    "# 2. Difference between max and min length"
   ]
  },
  {
   "cell_type": "code",
   "execution_count": 26,
   "id": "bb19f8a9",
   "metadata": {},
   "outputs": [],
   "source": [
    "a=np.max(y[:,0])-np.min(y[:,0])"
   ]
  },
  {
   "cell_type": "code",
   "execution_count": 27,
   "id": "ae2a6611",
   "metadata": {},
   "outputs": [
    {
     "data": {
      "text/plain": [
       "7.58349125"
      ]
     },
     "execution_count": 27,
     "metadata": {},
     "output_type": "execute_result"
    }
   ],
   "source": [
    "a"
   ]
  },
  {
   "cell_type": "markdown",
   "id": "118c1869",
   "metadata": {},
   "source": [
    "# 3.Find column wise average"
   ]
  },
  {
   "cell_type": "code",
   "execution_count": 28,
   "id": "dfff4725",
   "metadata": {},
   "outputs": [],
   "source": [
    "b=np.mean(y,axis=0)"
   ]
  },
  {
   "cell_type": "code",
   "execution_count": 29,
   "id": "7e39e803",
   "metadata": {},
   "outputs": [
    {
     "data": {
      "text/plain": [
       "array([ 1.31244808,  1.02032036,  0.34602787, 23.12343631,  9.98937025,\n",
       "        4.99318096,  6.63422915,  9.950615  ])"
      ]
     },
     "execution_count": 29,
     "metadata": {},
     "output_type": "execute_result"
    }
   ],
   "source": [
    "b"
   ]
  },
  {
   "cell_type": "markdown",
   "id": "c4dc2a13",
   "metadata": {},
   "source": [
    "# 4.Find out all the age whose height is greater than 0.4"
   ]
  },
  {
   "cell_type": "code",
   "execution_count": 32,
   "id": "090cee0e",
   "metadata": {},
   "outputs": [],
   "source": [
    "x1=y[:,7].take(np.where(x[:,2]>0.4))"
   ]
  },
  {
   "cell_type": "code",
   "execution_count": 33,
   "id": "58b680cd",
   "metadata": {},
   "outputs": [
    {
     "data": {
      "text/plain": [
       "array([[10., 19., 11.,  9.,  8., 10., 14., 13.,  9., 10., 10.,  6.,  9.,\n",
       "         7., 14., 16., 19.,  9.,  9.,  9., 12.,  6., 13.,  9.,  9., 11.,\n",
       "         9.,  8., 10.,  9., 20., 11., 17.,  8.,  5.,  9.,  8.,  5., 15.,\n",
       "         7., 12., 11.,  8., 11., 12.,  8.,  9., 14., 15.,  9.,  5.,  8.,\n",
       "        11.,  5., 11.,  8., 13., 11.,  9., 11.,  7.,  7.,  8., 10., 11.,\n",
       "         9., 13.,  8.,  7.,  7., 10.,  9.,  6.,  4.,  8., 10., 10., 10.,\n",
       "        10.,  8., 10.,  8.,  8., 10.,  9., 11.,  9.,  7., 13.,  9.,  6.,\n",
       "        12., 14., 11.,  9., 11., 10.,  8., 11., 15., 10.,  8.,  9.,  5.,\n",
       "         8.,  9., 11., 11.,  8., 12.,  8., 10.,  7.,  8., 10., 12., 10.,\n",
       "        13.,  9., 10., 10.,  4.,  6.,  7.,  9.,  4., 10., 16., 10.,  7.,\n",
       "        14.,  6., 10., 10.,  8., 11., 12.,  9., 11., 17., 10.,  4.,  8.,\n",
       "        15.,  6., 10.,  7., 10., 11.,  6., 14.,  6., 11., 11., 12.,  3.,\n",
       "        10.,  7., 10., 11., 11., 13.,  8.,  8.,  8., 10., 16., 11., 11.,\n",
       "        12., 10.,  6.,  9.,  7., 22., 11., 14., 11., 11.,  8., 12., 10.,\n",
       "        18.,  7.,  8., 12., 10.,  8.,  6.,  8.,  6.,  7.,  7.,  7., 14.,\n",
       "         9., 11.,  9.,  9., 10.,  6.,  7.,  7., 10., 14.,  9.,  8., 11.,\n",
       "         9., 10., 10., 11., 11.,  8., 11.,  6., 11.,  5., 10., 10.,  8.,\n",
       "         7., 10.,  9., 14.,  8., 18., 15.,  6., 18., 11.,  9., 13.,  5.,\n",
       "        12., 11., 12.,  4.,  8.,  8., 13.,  9.,  8.,  7.]])"
      ]
     },
     "execution_count": 33,
     "metadata": {},
     "output_type": "execute_result"
    }
   ],
   "source": [
    "x1"
   ]
  },
  {
   "cell_type": "markdown",
   "id": "ec2504ad",
   "metadata": {},
   "source": [
    "# 5. Avg height,weight whose age is 10"
   ]
  },
  {
   "cell_type": "code",
   "execution_count": 41,
   "id": "ad834eb4",
   "metadata": {},
   "outputs": [
    {
     "name": "stdout",
     "output_type": "stream",
     "text": [
      "avg height whose age is 10 =  0.3833672856539947\n",
      "avg weight whose age is 10 =  28.243308450511314\n"
     ]
    }
   ],
   "source": [
    "x1=np.array(y[:,2].take(np.where(y[:,7]==10)))\n",
    "print(\"avg height whose age is 10 = \",np.mean(x1))\n",
    "x1=np.array(y[:,3].take(np.where(y[:,7]==10)))\n",
    "print(\"avg weight whose age is 10 = \",np.mean(x1))"
   ]
  },
  {
   "cell_type": "markdown",
   "id": "9c17f5bf",
   "metadata": {},
   "source": [
    "# 6. What is total shell weight?\n"
   ]
  },
  {
   "cell_type": "code",
   "execution_count": 42,
   "id": "ddbad8f4",
   "metadata": {},
   "outputs": [
    {
     "data": {
      "text/plain": [
       "1326845.8295214002"
      ]
     },
     "execution_count": 42,
     "metadata": {},
     "output_type": "execute_result"
    }
   ],
   "source": [
    "np.sum(y[:,6])"
   ]
  },
  {
   "cell_type": "markdown",
   "id": "a629e75c",
   "metadata": {},
   "source": [
    "# 7. How many people belongs to each and every unique age"
   ]
  },
  {
   "cell_type": "code",
   "execution_count": 45,
   "id": "969d619c",
   "metadata": {},
   "outputs": [],
   "source": [
    "x1=np.unique(y[:,7],return_counts=True)"
   ]
  },
  {
   "cell_type": "code",
   "execution_count": 46,
   "id": "ba43498b",
   "metadata": {},
   "outputs": [
    {
     "data": {
      "text/plain": [
       "(array([ 1.,  2.,  3.,  4.,  5.,  6.,  7.,  8.,  9., 10., 11., 12., 13.,\n",
       "        14., 15., 16., 17., 18., 19., 20., 21., 22., 23., 24., 25., 26.,\n",
       "        27., 29.]),\n",
       " array([   46,    42,   625,  2787,  5475, 12450, 18276, 26818, 32906,\n",
       "        30803, 23457, 12717, 10037,  6352,  4831,  3191,  2705,  1953,\n",
       "         1591,  1206,   721,   296,   352,   110,    51,    46,    99,\n",
       "           57], dtype=int64))"
      ]
     },
     "execution_count": 46,
     "metadata": {},
     "output_type": "execute_result"
    }
   ],
   "source": [
    "x1"
   ]
  },
  {
   "cell_type": "markdown",
   "id": "0904e4fc",
   "metadata": {},
   "source": [
    "# 8. Difference b/w shuckled and viscera weight"
   ]
  },
  {
   "cell_type": "code",
   "execution_count": 47,
   "id": "c51151c1",
   "metadata": {},
   "outputs": [
    {
     "name": "stdout",
     "output_type": "stream",
     "text": [
      "Difference b/w shuckled and viscera weight =  999237.8582600503\n"
     ]
    }
   ],
   "source": [
    "x1=np.sum(y[:,4])\n",
    "x2=np.sum(y[:,5])\n",
    "print(\"Difference b/w shuckled and viscera weight = \",x1-x2)"
   ]
  },
  {
   "cell_type": "markdown",
   "id": "b7694fb2",
   "metadata": {},
   "source": [
    "# 9. Avg height of person whose age is greater than 14 and less than 19"
   ]
  },
  {
   "cell_type": "code",
   "execution_count": 55,
   "id": "5fac58af",
   "metadata": {},
   "outputs": [
    {
     "data": {
      "text/plain": [
       "0.4190701892744479"
      ]
     },
     "execution_count": 55,
     "metadata": {},
     "output_type": "execute_result"
    }
   ],
   "source": [
    "x1=np.array(y[:,2].take(np.where((y[:,7]>14) & (y[:,7]<19))))\n",
    "np.mean(x1)"
   ]
  },
  {
   "cell_type": "markdown",
   "id": "523db903",
   "metadata": {},
   "source": [
    "# 10 . Avg weight if we include all weights"
   ]
  },
  {
   "cell_type": "code",
   "execution_count": 58,
   "id": "d585ea63",
   "metadata": {},
   "outputs": [],
   "source": [
    "x1=np.sum(y[:,3:7])"
   ]
  },
  {
   "cell_type": "code",
   "execution_count": 59,
   "id": "22bf26b8",
   "metadata": {},
   "outputs": [
    {
     "data": {
      "text/plain": [
       "(200000, 8)"
      ]
     },
     "execution_count": 59,
     "metadata": {},
     "output_type": "execute_result"
    }
   ],
   "source": [
    "y.shape"
   ]
  },
  {
   "cell_type": "code",
   "execution_count": 60,
   "id": "77e88aca",
   "metadata": {},
   "outputs": [],
   "source": [
    "s=list(y.shape)"
   ]
  },
  {
   "cell_type": "code",
   "execution_count": 63,
   "id": "f024ff0c",
   "metadata": {},
   "outputs": [
    {
     "data": {
      "text/plain": [
       "200000"
      ]
     },
     "execution_count": 63,
     "metadata": {},
     "output_type": "execute_result"
    }
   ],
   "source": [
    "s[0]"
   ]
  },
  {
   "cell_type": "code",
   "execution_count": 64,
   "id": "e603dc7d",
   "metadata": {},
   "outputs": [
    {
     "name": "stdout",
     "output_type": "stream",
     "text": [
      "Avg weight if we include all weights =  44.740216665387145\n"
     ]
    }
   ],
   "source": [
    "print(\"Avg weight if we include all weights = \",x1/s[0])"
   ]
  },
  {
   "cell_type": "code",
   "execution_count": null,
   "id": "aec93f4c",
   "metadata": {},
   "outputs": [],
   "source": []
  }
 ],
 "metadata": {
  "kernelspec": {
   "display_name": "Python 3 (ipykernel)",
   "language": "python",
   "name": "python3"
  },
  "language_info": {
   "codemirror_mode": {
    "name": "ipython",
    "version": 3
   },
   "file_extension": ".py",
   "mimetype": "text/x-python",
   "name": "python",
   "nbconvert_exporter": "python",
   "pygments_lexer": "ipython3",
   "version": "3.11.3"
  }
 },
 "nbformat": 4,
 "nbformat_minor": 5
}
